{
 "cells": [
  {
   "cell_type": "code",
   "execution_count": 1,
   "metadata": {},
   "outputs": [],
   "source": [
    "path = 'datasets/usgov/example.txt'"
   ]
  },
  {
   "cell_type": "code",
   "execution_count": 2,
   "metadata": {},
   "outputs": [],
   "source": [
    "import numpy as np"
   ]
  },
  {
   "cell_type": "code",
   "execution_count": 3,
   "metadata": {},
   "outputs": [
    {
     "data": {
      "text/plain": [
       "'{ \"a\": \"Mozilla\\\\/5.0 (Windows NT 6.1; WOW64) AppleWebKit\\\\/535.11 (KHTML, like Gecko) Chrome\\\\/17.0.963.78 Safari\\\\/535.11\", \"c\": \"US\", \"nk\": 1, \"tz\": \"America\\\\/New_York\", \"gr\": \"MA\", \"g\": \"A6qOVH\", \"h\": \"wfLQtf\", \"l\": \"orofrog\", \"al\": \"en-US,en;q=0.8\", \"hh\": \"1.usa.gov\", \"r\": \"http:\\\\/\\\\/www.facebook.com\\\\/l\\\\/7AQEFzjSi\\\\/1.usa.gov\\\\/wfLQtf\", \"u\": \"http:\\\\/\\\\/www.ncbi.nlm.nih.gov\\\\/pubmed\\\\/22415991\", \"t\": 1331923247, \"hc\": 1331822918, \"cy\": \"Danvers\", \"ll\": [ 42.576698, -70.954903 ] }\\n'"
      ]
     },
     "execution_count": 3,
     "metadata": {},
     "output_type": "execute_result"
    }
   ],
   "source": [
    "open(path).readline()"
   ]
  },
  {
   "cell_type": "code",
   "execution_count": 4,
   "metadata": {},
   "outputs": [],
   "source": [
    "import json\n",
    "records = [json.loads(line) for line in open(path)]"
   ]
  },
  {
   "cell_type": "code",
   "execution_count": 5,
   "metadata": {
    "scrolled": true
   },
   "outputs": [
    {
     "data": {
      "text/plain": [
       "{'a': 'Mozilla/5.0 (Windows NT 6.1; WOW64) AppleWebKit/535.11 (KHTML, like Gecko) Chrome/17.0.963.78 Safari/535.11',\n",
       " 'c': 'US',\n",
       " 'nk': 1,\n",
       " 'tz': 'America/New_York',\n",
       " 'gr': 'MA',\n",
       " 'g': 'A6qOVH',\n",
       " 'h': 'wfLQtf',\n",
       " 'l': 'orofrog',\n",
       " 'al': 'en-US,en;q=0.8',\n",
       " 'hh': '1.usa.gov',\n",
       " 'r': 'http://www.facebook.com/l/7AQEFzjSi/1.usa.gov/wfLQtf',\n",
       " 'u': 'http://www.ncbi.nlm.nih.gov/pubmed/22415991',\n",
       " 't': 1331923247,\n",
       " 'hc': 1331822918,\n",
       " 'cy': 'Danvers',\n",
       " 'll': [42.576698, -70.954903]}"
      ]
     },
     "execution_count": 5,
     "metadata": {},
     "output_type": "execute_result"
    }
   ],
   "source": [
    "records[0]"
   ]
  },
  {
   "cell_type": "code",
   "execution_count": 6,
   "metadata": {},
   "outputs": [
    {
     "data": {
      "text/plain": [
       "'America/New_York'"
      ]
     },
     "execution_count": 6,
     "metadata": {},
     "output_type": "execute_result"
    }
   ],
   "source": [
    "records[0]['tz']"
   ]
  },
  {
   "cell_type": "markdown",
   "metadata": {},
   "source": [
    "# Counting Time Zones in Pure Python"
   ]
  },
  {
   "cell_type": "code",
   "execution_count": 7,
   "metadata": {},
   "outputs": [],
   "source": [
    "time_zones = [rec['tz'] for rec in records if 'tz' in rec]"
   ]
  },
  {
   "cell_type": "code",
   "execution_count": 8,
   "metadata": {},
   "outputs": [
    {
     "data": {
      "text/plain": [
       "['America/New_York',\n",
       " 'America/Denver',\n",
       " 'America/New_York',\n",
       " 'America/Sao_Paulo',\n",
       " 'America/New_York',\n",
       " 'America/New_York',\n",
       " 'Europe/Warsaw',\n",
       " '',\n",
       " '',\n",
       " '']"
      ]
     },
     "execution_count": 8,
     "metadata": {},
     "output_type": "execute_result"
    }
   ],
   "source": [
    "time_zones[:10]"
   ]
  },
  {
   "cell_type": "code",
   "execution_count": 9,
   "metadata": {},
   "outputs": [],
   "source": [
    "def get_counts(sequence):\n",
    "    counts = {}\n",
    "    \n",
    "    for x in sequence:\n",
    "        if x in counts:\n",
    "            counts[x] += 1\n",
    "        else:\n",
    "            counts[x] = 1\n",
    "    return counts"
   ]
  },
  {
   "cell_type": "code",
   "execution_count": 10,
   "metadata": {},
   "outputs": [],
   "source": [
    "counts = get_counts(time_zones)"
   ]
  },
  {
   "cell_type": "code",
   "execution_count": 11,
   "metadata": {},
   "outputs": [
    {
     "data": {
      "text/plain": [
       "1251"
      ]
     },
     "execution_count": 11,
     "metadata": {},
     "output_type": "execute_result"
    }
   ],
   "source": [
    "counts['America/New_York']"
   ]
  },
  {
   "cell_type": "code",
   "execution_count": 12,
   "metadata": {},
   "outputs": [
    {
     "data": {
      "text/plain": [
       "3440"
      ]
     },
     "execution_count": 12,
     "metadata": {},
     "output_type": "execute_result"
    }
   ],
   "source": [
    "len(time_zones)"
   ]
  },
  {
   "cell_type": "code",
   "execution_count": 13,
   "metadata": {},
   "outputs": [],
   "source": [
    "def top_counts(count_dict, n=10):\n",
    "    value_key_pairs = [(count, tz) for tz, count in count_dict.items()]\n",
    "    value_key_pairs.sort()\n",
    "    return value_key_pairs[-n:]"
   ]
  },
  {
   "cell_type": "code",
   "execution_count": 14,
   "metadata": {},
   "outputs": [
    {
     "data": {
      "text/plain": [
       "[(33, 'America/Sao_Paulo'),\n",
       " (35, 'Europe/Madrid'),\n",
       " (36, 'Pacific/Honolulu'),\n",
       " (37, 'Asia/Tokyo'),\n",
       " (74, 'Europe/London'),\n",
       " (191, 'America/Denver'),\n",
       " (382, 'America/Los_Angeles'),\n",
       " (400, 'America/Chicago'),\n",
       " (521, ''),\n",
       " (1251, 'America/New_York')]"
      ]
     },
     "execution_count": 14,
     "metadata": {},
     "output_type": "execute_result"
    }
   ],
   "source": [
    "top_counts(counts)"
   ]
  },
  {
   "cell_type": "code",
   "execution_count": 15,
   "metadata": {},
   "outputs": [],
   "source": [
    "from collections import Counter"
   ]
  },
  {
   "cell_type": "code",
   "execution_count": 16,
   "metadata": {},
   "outputs": [],
   "source": [
    "counts = Counter(time_zones)"
   ]
  },
  {
   "cell_type": "code",
   "execution_count": 17,
   "metadata": {},
   "outputs": [
    {
     "data": {
      "text/plain": [
       "[('America/New_York', 1251),\n",
       " ('', 521),\n",
       " ('America/Chicago', 400),\n",
       " ('America/Los_Angeles', 382),\n",
       " ('America/Denver', 191),\n",
       " ('Europe/London', 74),\n",
       " ('Asia/Tokyo', 37),\n",
       " ('Pacific/Honolulu', 36),\n",
       " ('Europe/Madrid', 35),\n",
       " ('America/Sao_Paulo', 33)]"
      ]
     },
     "execution_count": 17,
     "metadata": {},
     "output_type": "execute_result"
    }
   ],
   "source": [
    "counts.most_common(10)"
   ]
  },
  {
   "cell_type": "markdown",
   "metadata": {},
   "source": [
    "# Counting Time Zones with Pandas"
   ]
  },
  {
   "cell_type": "code",
   "execution_count": 18,
   "metadata": {},
   "outputs": [],
   "source": [
    "from pandas import DataFrame, Series"
   ]
  },
  {
   "cell_type": "code",
   "execution_count": 19,
   "metadata": {},
   "outputs": [],
   "source": [
    "import pandas as pd"
   ]
  },
  {
   "cell_type": "code",
   "execution_count": 20,
   "metadata": {},
   "outputs": [],
   "source": [
    "df = DataFrame(records)"
   ]
  },
  {
   "cell_type": "code",
   "execution_count": 21,
   "metadata": {},
   "outputs": [
    {
     "data": {
      "text/html": [
       "<div>\n",
       "<style scoped>\n",
       "    .dataframe tbody tr th:only-of-type {\n",
       "        vertical-align: middle;\n",
       "    }\n",
       "\n",
       "    .dataframe tbody tr th {\n",
       "        vertical-align: top;\n",
       "    }\n",
       "\n",
       "    .dataframe thead th {\n",
       "        text-align: right;\n",
       "    }\n",
       "</style>\n",
       "<table border=\"1\" class=\"dataframe\">\n",
       "  <thead>\n",
       "    <tr style=\"text-align: right;\">\n",
       "      <th></th>\n",
       "      <th>a</th>\n",
       "      <th>c</th>\n",
       "      <th>nk</th>\n",
       "      <th>tz</th>\n",
       "      <th>gr</th>\n",
       "      <th>g</th>\n",
       "      <th>h</th>\n",
       "      <th>l</th>\n",
       "      <th>al</th>\n",
       "      <th>hh</th>\n",
       "      <th>r</th>\n",
       "      <th>u</th>\n",
       "      <th>t</th>\n",
       "      <th>hc</th>\n",
       "      <th>cy</th>\n",
       "      <th>ll</th>\n",
       "      <th>_heartbeat_</th>\n",
       "      <th>kw</th>\n",
       "    </tr>\n",
       "  </thead>\n",
       "  <tbody>\n",
       "    <tr>\n",
       "      <th>0</th>\n",
       "      <td>Mozilla/5.0 (Windows NT 6.1; WOW64) AppleWebKi...</td>\n",
       "      <td>US</td>\n",
       "      <td>1.0</td>\n",
       "      <td>America/New_York</td>\n",
       "      <td>MA</td>\n",
       "      <td>A6qOVH</td>\n",
       "      <td>wfLQtf</td>\n",
       "      <td>orofrog</td>\n",
       "      <td>en-US,en;q=0.8</td>\n",
       "      <td>1.usa.gov</td>\n",
       "      <td>http://www.facebook.com/l/7AQEFzjSi/1.usa.gov/...</td>\n",
       "      <td>http://www.ncbi.nlm.nih.gov/pubmed/22415991</td>\n",
       "      <td>1.331923e+09</td>\n",
       "      <td>1.331823e+09</td>\n",
       "      <td>Danvers</td>\n",
       "      <td>[42.576698, -70.954903]</td>\n",
       "      <td>NaN</td>\n",
       "      <td>NaN</td>\n",
       "    </tr>\n",
       "    <tr>\n",
       "      <th>1</th>\n",
       "      <td>GoogleMaps/RochesterNY</td>\n",
       "      <td>US</td>\n",
       "      <td>0.0</td>\n",
       "      <td>America/Denver</td>\n",
       "      <td>UT</td>\n",
       "      <td>mwszkS</td>\n",
       "      <td>mwszkS</td>\n",
       "      <td>bitly</td>\n",
       "      <td>NaN</td>\n",
       "      <td>j.mp</td>\n",
       "      <td>http://www.AwareMap.com/</td>\n",
       "      <td>http://www.monroecounty.gov/etc/911/rss.php</td>\n",
       "      <td>1.331923e+09</td>\n",
       "      <td>1.308262e+09</td>\n",
       "      <td>Provo</td>\n",
       "      <td>[40.218102, -111.613297]</td>\n",
       "      <td>NaN</td>\n",
       "      <td>NaN</td>\n",
       "    </tr>\n",
       "    <tr>\n",
       "      <th>2</th>\n",
       "      <td>Mozilla/4.0 (compatible; MSIE 8.0; Windows NT ...</td>\n",
       "      <td>US</td>\n",
       "      <td>1.0</td>\n",
       "      <td>America/New_York</td>\n",
       "      <td>DC</td>\n",
       "      <td>xxr3Qb</td>\n",
       "      <td>xxr3Qb</td>\n",
       "      <td>bitly</td>\n",
       "      <td>en-US</td>\n",
       "      <td>1.usa.gov</td>\n",
       "      <td>http://t.co/03elZC4Q</td>\n",
       "      <td>http://boxer.senate.gov/en/press/releases/0316...</td>\n",
       "      <td>1.331923e+09</td>\n",
       "      <td>1.331920e+09</td>\n",
       "      <td>Washington</td>\n",
       "      <td>[38.9007, -77.043098]</td>\n",
       "      <td>NaN</td>\n",
       "      <td>NaN</td>\n",
       "    </tr>\n",
       "    <tr>\n",
       "      <th>3</th>\n",
       "      <td>Mozilla/5.0 (Macintosh; Intel Mac OS X 10_6_8)...</td>\n",
       "      <td>BR</td>\n",
       "      <td>0.0</td>\n",
       "      <td>America/Sao_Paulo</td>\n",
       "      <td>27</td>\n",
       "      <td>zCaLwp</td>\n",
       "      <td>zUtuOu</td>\n",
       "      <td>alelex88</td>\n",
       "      <td>pt-br</td>\n",
       "      <td>1.usa.gov</td>\n",
       "      <td>direct</td>\n",
       "      <td>http://apod.nasa.gov/apod/ap120312.html</td>\n",
       "      <td>1.331923e+09</td>\n",
       "      <td>1.331923e+09</td>\n",
       "      <td>Braz</td>\n",
       "      <td>[-23.549999, -46.616699]</td>\n",
       "      <td>NaN</td>\n",
       "      <td>NaN</td>\n",
       "    </tr>\n",
       "    <tr>\n",
       "      <th>4</th>\n",
       "      <td>Mozilla/5.0 (Windows NT 6.1; WOW64) AppleWebKi...</td>\n",
       "      <td>US</td>\n",
       "      <td>0.0</td>\n",
       "      <td>America/New_York</td>\n",
       "      <td>MA</td>\n",
       "      <td>9b6kNl</td>\n",
       "      <td>9b6kNl</td>\n",
       "      <td>bitly</td>\n",
       "      <td>en-US,en;q=0.8</td>\n",
       "      <td>bit.ly</td>\n",
       "      <td>http://www.shrewsbury-ma.gov/selco/</td>\n",
       "      <td>http://www.shrewsbury-ma.gov/egov/gallery/1341...</td>\n",
       "      <td>1.331923e+09</td>\n",
       "      <td>1.273672e+09</td>\n",
       "      <td>Shrewsbury</td>\n",
       "      <td>[42.286499, -71.714699]</td>\n",
       "      <td>NaN</td>\n",
       "      <td>NaN</td>\n",
       "    </tr>\n",
       "    <tr>\n",
       "      <th>...</th>\n",
       "      <td>...</td>\n",
       "      <td>...</td>\n",
       "      <td>...</td>\n",
       "      <td>...</td>\n",
       "      <td>...</td>\n",
       "      <td>...</td>\n",
       "      <td>...</td>\n",
       "      <td>...</td>\n",
       "      <td>...</td>\n",
       "      <td>...</td>\n",
       "      <td>...</td>\n",
       "      <td>...</td>\n",
       "      <td>...</td>\n",
       "      <td>...</td>\n",
       "      <td>...</td>\n",
       "      <td>...</td>\n",
       "      <td>...</td>\n",
       "      <td>...</td>\n",
       "    </tr>\n",
       "    <tr>\n",
       "      <th>3555</th>\n",
       "      <td>Mozilla/4.0 (compatible; MSIE 9.0; Windows NT ...</td>\n",
       "      <td>US</td>\n",
       "      <td>1.0</td>\n",
       "      <td>America/New_York</td>\n",
       "      <td>NJ</td>\n",
       "      <td>e5SvKE</td>\n",
       "      <td>fqPSr9</td>\n",
       "      <td>tweetdeckapi</td>\n",
       "      <td>en</td>\n",
       "      <td>1.usa.gov</td>\n",
       "      <td>direct</td>\n",
       "      <td>http://www.fda.gov/AdvisoryCommittees/Committe...</td>\n",
       "      <td>1.331927e+09</td>\n",
       "      <td>1.301298e+09</td>\n",
       "      <td>Paramus</td>\n",
       "      <td>[40.9445, -74.07]</td>\n",
       "      <td>NaN</td>\n",
       "      <td>NaN</td>\n",
       "    </tr>\n",
       "    <tr>\n",
       "      <th>3556</th>\n",
       "      <td>Mozilla/5.0 (Windows NT 5.1) AppleWebKit/535.1...</td>\n",
       "      <td>US</td>\n",
       "      <td>0.0</td>\n",
       "      <td>America/Chicago</td>\n",
       "      <td>OK</td>\n",
       "      <td>jQLtP4</td>\n",
       "      <td>jQLtP4</td>\n",
       "      <td>bitly</td>\n",
       "      <td>en-US,en;q=0.8</td>\n",
       "      <td>1.usa.gov</td>\n",
       "      <td>http://www.facebook.com/l.php?u=http%3A%2F%2F1...</td>\n",
       "      <td>http://www.okc.gov/PublicNotificationSystem/Fo...</td>\n",
       "      <td>1.331927e+09</td>\n",
       "      <td>1.307530e+09</td>\n",
       "      <td>Oklahoma City</td>\n",
       "      <td>[35.4715, -97.518997]</td>\n",
       "      <td>NaN</td>\n",
       "      <td>NaN</td>\n",
       "    </tr>\n",
       "    <tr>\n",
       "      <th>3557</th>\n",
       "      <td>GoogleMaps/RochesterNY</td>\n",
       "      <td>US</td>\n",
       "      <td>0.0</td>\n",
       "      <td>America/Denver</td>\n",
       "      <td>UT</td>\n",
       "      <td>mwszkS</td>\n",
       "      <td>mwszkS</td>\n",
       "      <td>bitly</td>\n",
       "      <td>NaN</td>\n",
       "      <td>j.mp</td>\n",
       "      <td>http://www.AwareMap.com/</td>\n",
       "      <td>http://www.monroecounty.gov/etc/911/rss.php</td>\n",
       "      <td>1.331927e+09</td>\n",
       "      <td>1.308262e+09</td>\n",
       "      <td>Provo</td>\n",
       "      <td>[40.218102, -111.613297]</td>\n",
       "      <td>NaN</td>\n",
       "      <td>NaN</td>\n",
       "    </tr>\n",
       "    <tr>\n",
       "      <th>3558</th>\n",
       "      <td>GoogleProducer</td>\n",
       "      <td>US</td>\n",
       "      <td>0.0</td>\n",
       "      <td>America/Los_Angeles</td>\n",
       "      <td>CA</td>\n",
       "      <td>zjtI4X</td>\n",
       "      <td>zjtI4X</td>\n",
       "      <td>bitly</td>\n",
       "      <td>NaN</td>\n",
       "      <td>1.usa.gov</td>\n",
       "      <td>direct</td>\n",
       "      <td>http://www.ahrq.gov/qual/qitoolkit/</td>\n",
       "      <td>1.331927e+09</td>\n",
       "      <td>1.327529e+09</td>\n",
       "      <td>Mountain View</td>\n",
       "      <td>[37.419201, -122.057404]</td>\n",
       "      <td>NaN</td>\n",
       "      <td>NaN</td>\n",
       "    </tr>\n",
       "    <tr>\n",
       "      <th>3559</th>\n",
       "      <td>Mozilla/4.0 (compatible; MSIE 8.0; Windows NT ...</td>\n",
       "      <td>US</td>\n",
       "      <td>0.0</td>\n",
       "      <td>America/New_York</td>\n",
       "      <td>VA</td>\n",
       "      <td>qxKrTK</td>\n",
       "      <td>qxKrTK</td>\n",
       "      <td>bitly</td>\n",
       "      <td>en-US</td>\n",
       "      <td>1.usa.gov</td>\n",
       "      <td>http://t.co/OEEEvwjU</td>\n",
       "      <td>http://herndon-va.gov/Content/public_safety/Pu...</td>\n",
       "      <td>1.331927e+09</td>\n",
       "      <td>1.312898e+09</td>\n",
       "      <td>Mc Lean</td>\n",
       "      <td>[38.935799, -77.162102]</td>\n",
       "      <td>NaN</td>\n",
       "      <td>NaN</td>\n",
       "    </tr>\n",
       "  </tbody>\n",
       "</table>\n",
       "<p>3560 rows × 18 columns</p>\n",
       "</div>"
      ],
      "text/plain": [
       "                                                      a   c   nk  \\\n",
       "0     Mozilla/5.0 (Windows NT 6.1; WOW64) AppleWebKi...  US  1.0   \n",
       "1                                GoogleMaps/RochesterNY  US  0.0   \n",
       "2     Mozilla/4.0 (compatible; MSIE 8.0; Windows NT ...  US  1.0   \n",
       "3     Mozilla/5.0 (Macintosh; Intel Mac OS X 10_6_8)...  BR  0.0   \n",
       "4     Mozilla/5.0 (Windows NT 6.1; WOW64) AppleWebKi...  US  0.0   \n",
       "...                                                 ...  ..  ...   \n",
       "3555  Mozilla/4.0 (compatible; MSIE 9.0; Windows NT ...  US  1.0   \n",
       "3556  Mozilla/5.0 (Windows NT 5.1) AppleWebKit/535.1...  US  0.0   \n",
       "3557                             GoogleMaps/RochesterNY  US  0.0   \n",
       "3558                                     GoogleProducer  US  0.0   \n",
       "3559  Mozilla/4.0 (compatible; MSIE 8.0; Windows NT ...  US  0.0   \n",
       "\n",
       "                       tz  gr       g       h             l              al  \\\n",
       "0        America/New_York  MA  A6qOVH  wfLQtf       orofrog  en-US,en;q=0.8   \n",
       "1          America/Denver  UT  mwszkS  mwszkS         bitly             NaN   \n",
       "2        America/New_York  DC  xxr3Qb  xxr3Qb         bitly           en-US   \n",
       "3       America/Sao_Paulo  27  zCaLwp  zUtuOu      alelex88           pt-br   \n",
       "4        America/New_York  MA  9b6kNl  9b6kNl         bitly  en-US,en;q=0.8   \n",
       "...                   ...  ..     ...     ...           ...             ...   \n",
       "3555     America/New_York  NJ  e5SvKE  fqPSr9  tweetdeckapi              en   \n",
       "3556      America/Chicago  OK  jQLtP4  jQLtP4         bitly  en-US,en;q=0.8   \n",
       "3557       America/Denver  UT  mwszkS  mwszkS         bitly             NaN   \n",
       "3558  America/Los_Angeles  CA  zjtI4X  zjtI4X         bitly             NaN   \n",
       "3559     America/New_York  VA  qxKrTK  qxKrTK         bitly           en-US   \n",
       "\n",
       "             hh                                                  r  \\\n",
       "0     1.usa.gov  http://www.facebook.com/l/7AQEFzjSi/1.usa.gov/...   \n",
       "1          j.mp                           http://www.AwareMap.com/   \n",
       "2     1.usa.gov                               http://t.co/03elZC4Q   \n",
       "3     1.usa.gov                                             direct   \n",
       "4        bit.ly                http://www.shrewsbury-ma.gov/selco/   \n",
       "...         ...                                                ...   \n",
       "3555  1.usa.gov                                             direct   \n",
       "3556  1.usa.gov  http://www.facebook.com/l.php?u=http%3A%2F%2F1...   \n",
       "3557       j.mp                           http://www.AwareMap.com/   \n",
       "3558  1.usa.gov                                             direct   \n",
       "3559  1.usa.gov                               http://t.co/OEEEvwjU   \n",
       "\n",
       "                                                      u             t  \\\n",
       "0           http://www.ncbi.nlm.nih.gov/pubmed/22415991  1.331923e+09   \n",
       "1           http://www.monroecounty.gov/etc/911/rss.php  1.331923e+09   \n",
       "2     http://boxer.senate.gov/en/press/releases/0316...  1.331923e+09   \n",
       "3               http://apod.nasa.gov/apod/ap120312.html  1.331923e+09   \n",
       "4     http://www.shrewsbury-ma.gov/egov/gallery/1341...  1.331923e+09   \n",
       "...                                                 ...           ...   \n",
       "3555  http://www.fda.gov/AdvisoryCommittees/Committe...  1.331927e+09   \n",
       "3556  http://www.okc.gov/PublicNotificationSystem/Fo...  1.331927e+09   \n",
       "3557        http://www.monroecounty.gov/etc/911/rss.php  1.331927e+09   \n",
       "3558                http://www.ahrq.gov/qual/qitoolkit/  1.331927e+09   \n",
       "3559  http://herndon-va.gov/Content/public_safety/Pu...  1.331927e+09   \n",
       "\n",
       "                hc             cy                        ll  _heartbeat_   kw  \n",
       "0     1.331823e+09        Danvers   [42.576698, -70.954903]          NaN  NaN  \n",
       "1     1.308262e+09          Provo  [40.218102, -111.613297]          NaN  NaN  \n",
       "2     1.331920e+09     Washington     [38.9007, -77.043098]          NaN  NaN  \n",
       "3     1.331923e+09           Braz  [-23.549999, -46.616699]          NaN  NaN  \n",
       "4     1.273672e+09     Shrewsbury   [42.286499, -71.714699]          NaN  NaN  \n",
       "...            ...            ...                       ...          ...  ...  \n",
       "3555  1.301298e+09        Paramus         [40.9445, -74.07]          NaN  NaN  \n",
       "3556  1.307530e+09  Oklahoma City     [35.4715, -97.518997]          NaN  NaN  \n",
       "3557  1.308262e+09          Provo  [40.218102, -111.613297]          NaN  NaN  \n",
       "3558  1.327529e+09  Mountain View  [37.419201, -122.057404]          NaN  NaN  \n",
       "3559  1.312898e+09        Mc Lean   [38.935799, -77.162102]          NaN  NaN  \n",
       "\n",
       "[3560 rows x 18 columns]"
      ]
     },
     "execution_count": 21,
     "metadata": {},
     "output_type": "execute_result"
    }
   ],
   "source": [
    "df"
   ]
  },
  {
   "cell_type": "code",
   "execution_count": 22,
   "metadata": {},
   "outputs": [
    {
     "data": {
      "text/plain": [
       "0     America/New_York\n",
       "1       America/Denver\n",
       "2     America/New_York\n",
       "3    America/Sao_Paulo\n",
       "4     America/New_York\n",
       "5     America/New_York\n",
       "6        Europe/Warsaw\n",
       "7                     \n",
       "8                     \n",
       "9                     \n",
       "Name: tz, dtype: object"
      ]
     },
     "execution_count": 22,
     "metadata": {},
     "output_type": "execute_result"
    }
   ],
   "source": [
    "df['tz'][:10]"
   ]
  },
  {
   "cell_type": "code",
   "execution_count": 23,
   "metadata": {},
   "outputs": [],
   "source": [
    "tz_counts = df['tz'].value_counts()"
   ]
  },
  {
   "cell_type": "code",
   "execution_count": 24,
   "metadata": {},
   "outputs": [
    {
     "data": {
      "text/plain": [
       "America/New_York       1251\n",
       "                        521\n",
       "America/Chicago         400\n",
       "America/Los_Angeles     382\n",
       "America/Denver          191\n",
       "Europe/London            74\n",
       "Asia/Tokyo               37\n",
       "Pacific/Honolulu         36\n",
       "Europe/Madrid            35\n",
       "America/Sao_Paulo        33\n",
       "Name: tz, dtype: int64"
      ]
     },
     "execution_count": 24,
     "metadata": {},
     "output_type": "execute_result"
    }
   ],
   "source": [
    "tz_counts[:10]"
   ]
  },
  {
   "cell_type": "code",
   "execution_count": 25,
   "metadata": {},
   "outputs": [],
   "source": [
    "clean_tz = df['tz'].fillna(\"Missing\")"
   ]
  },
  {
   "cell_type": "code",
   "execution_count": 26,
   "metadata": {},
   "outputs": [],
   "source": [
    "clean_tz[clean_tz == ''] = 'Unknown'"
   ]
  },
  {
   "cell_type": "code",
   "execution_count": 27,
   "metadata": {},
   "outputs": [],
   "source": [
    "tz_counts = clean_tz.value_counts()"
   ]
  },
  {
   "cell_type": "code",
   "execution_count": 28,
   "metadata": {},
   "outputs": [
    {
     "data": {
      "text/plain": [
       "America/New_York       1251\n",
       "Unknown                 521\n",
       "America/Chicago         400\n",
       "America/Los_Angeles     382\n",
       "America/Denver          191\n",
       "Missing                 120\n",
       "Europe/London            74\n",
       "Asia/Tokyo               37\n",
       "Pacific/Honolulu         36\n",
       "Europe/Madrid            35\n",
       "Name: tz, dtype: int64"
      ]
     },
     "execution_count": 28,
     "metadata": {},
     "output_type": "execute_result"
    }
   ],
   "source": [
    "tz_counts[:10]"
   ]
  },
  {
   "cell_type": "code",
   "execution_count": 29,
   "metadata": {},
   "outputs": [
    {
     "data": {
      "text/plain": [
       "<AxesSubplot:>"
      ]
     },
     "execution_count": 29,
     "metadata": {},
     "output_type": "execute_result"
    },
    {
     "data": {
      "image/png": "[encoded data removed]",
      "text/plain": [
       "<Figure size 432x288 with 1 Axes>"
      ]
     },
     "metadata": {
      "needs_background": "light"
     },
     "output_type": "display_data"
    }
   ],
   "source": [
    "tz_counts[:10].plot(kind='barh', rot=0)"
   ]
  },
  {
   "cell_type": "code",
   "execution_count": 30,
   "metadata": {},
   "outputs": [],
   "source": [
    "results = Series([x.split()[0] for x in df.a.dropna()])"
   ]
  },
  {
   "cell_type": "code",
   "execution_count": 31,
   "metadata": {},
   "outputs": [
    {
     "data": {
      "text/plain": [
       "0               Mozilla/5.0\n",
       "1    GoogleMaps/RochesterNY\n",
       "2               Mozilla/4.0\n",
       "3               Mozilla/5.0\n",
       "4               Mozilla/5.0\n",
       "dtype: object"
      ]
     },
     "execution_count": 31,
     "metadata": {},
     "output_type": "execute_result"
    }
   ],
   "source": [
    "results[:5]"
   ]
  },
  {
   "cell_type": "code",
   "execution_count": 32,
   "metadata": {},
   "outputs": [
    {
     "data": {
      "text/plain": [
       "Mozilla/5.0                 2594\n",
       "Mozilla/4.0                  601\n",
       "GoogleMaps/RochesterNY       121\n",
       "Opera/9.80                    34\n",
       "TEST_INTERNET_AGENT           24\n",
       "GoogleProducer                21\n",
       "Mozilla/6.0                    5\n",
       "BlackBerry8520/5.0.0.681       4\n",
       "dtype: int64"
      ]
     },
     "execution_count": 32,
     "metadata": {},
     "output_type": "execute_result"
    }
   ],
   "source": [
    "results.value_counts()[:8]"
   ]
  },
  {
   "cell_type": "code",
   "execution_count": 33,
   "metadata": {},
   "outputs": [],
   "source": [
    "cframe = df[df.a.notnull()]"
   ]
  },
  {
   "cell_type": "code",
   "execution_count": 34,
   "metadata": {},
   "outputs": [],
   "source": [
    "os = np.where(cframe['a'].str.contains('Windows'), 'Windows', 'Not Windows')"
   ]
  },
  {
   "cell_type": "code",
   "execution_count": 35,
   "metadata": {},
   "outputs": [
    {
     "data": {
      "text/plain": [
       "array(['Windows', 'Not Windows', 'Windows', 'Not Windows', 'Windows'],\n",
       "      dtype='<U11')"
      ]
     },
     "execution_count": 35,
     "metadata": {},
     "output_type": "execute_result"
    }
   ],
   "source": [
    "os[:5]"
   ]
  },
  {
   "cell_type": "code",
   "execution_count": 37,
   "metadata": {},
   "outputs": [],
   "source": [
    "by_tz_os = cframe.groupby(['tz', os])"
   ]
  },
  {
   "cell_type": "code",
   "execution_count": null,
   "metadata": {},
   "outputs": [],
   "source": []
  }
 ],
 "metadata": {
  "kernelspec": {
   "display_name": "Python 3",
   "language": "python",
   "name": "python3"
  },
  "language_info": {
   "codemirror_mode": {
    "name": "ipython",
    "version": 3
   },
   "file_extension": ".py",
   "mimetype": "text/x-python",
   "name": "python",
   "nbconvert_exporter": "python",
   "pygments_lexer": "ipython3",
   "version": "3.8.5"
  }
 },
 "nbformat": 4,
 "nbformat_minor": 4
}
